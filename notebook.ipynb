{
 "cells": [
  {
   "cell_type": "code",
   "execution_count": 5,
   "metadata": {},
   "outputs": [],
   "source": [
    "\n",
    "\n",
    "\n",
    "import numpy as np\n",
    "def mean_std(floats):\n",
    "    mean = np.mean(floats)\n",
    "    std = np.std(floats)\n",
    "    print(f\"${mean} \\\\ps {std}$\")\n",
    "\n",
    "\n",
    "vals = [99.27, 99.39, 99.15]\n",
    "atm_stability = [86.23, 86.11, 86.13]\n",
    "test_nlls = [-300.48, -301.49, -301.66]"
   ]
  },
  {
   "cell_type": "code",
   "execution_count": 7,
   "metadata": {},
   "outputs": [
    {
     "name": "stdout",
     "output_type": "stream",
     "text": [
      "\n",
      "$-301.21000000000004 \\ps 0.5208326666662404$\n"
     ]
    }
   ],
   "source": [
    "print(\"\")\n",
    "mean_std(test_nlls)"
   ]
  }
 ],
 "metadata": {
  "kernelspec": {
   "display_name": "ssl-vae-embeddings",
   "language": "python",
   "name": "python3"
  },
  "language_info": {
   "codemirror_mode": {
    "name": "ipython",
    "version": 3
   },
   "file_extension": ".py",
   "mimetype": "text/x-python",
   "name": "python",
   "nbconvert_exporter": "python",
   "pygments_lexer": "ipython3",
   "version": "3.10.14"
  }
 },
 "nbformat": 4,
 "nbformat_minor": 2
}
